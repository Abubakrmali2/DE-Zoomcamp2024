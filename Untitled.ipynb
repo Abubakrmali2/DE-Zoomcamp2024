{
 "cells": [
  {
   "cell_type": "code",
   "execution_count": 4,
   "id": "d32a2ef3-abf4-43aa-83f9-4d9444d81e07",
   "metadata": {},
   "outputs": [
    {
     "name": "stdout",
     "output_type": "stream",
     "text": [
      "Hello from codespaces\n"
     ]
    }
   ],
   "source": [
    "print('Hello from codespaces')"
   ]
  },
  {
   "cell_type": "code",
   "execution_count": null,
   "id": "8270b6ff-4eb1-4f89-bb35-084a17e7f77f",
   "metadata": {},
   "outputs": [],
   "source": []
  }
 ],
 "metadata": {
  "kernelspec": {
   "display_name": "Python 3 (ipykernel)",
   "language": "python",
   "name": "python3"
  },
  "language_info": {
   "codemirror_mode": {
    "name": "ipython",
    "version": 3
   },
   "file_extension": ".py",
   "mimetype": "text/x-python",
   "name": "python",
   "nbconvert_exporter": "python",
   "pygments_lexer": "ipython3",
   "version": "3.10.13"
  }
 },
 "nbformat": 4,
 "nbformat_minor": 5
}
